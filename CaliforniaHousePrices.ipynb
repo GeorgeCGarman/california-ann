{
 "cells": [
  {
   "cell_type": "code",
   "execution_count": 166,
   "id": "be404906",
   "metadata": {},
   "outputs": [],
   "source": [
    "from sklearn.datasets import fetch_california_housing\n",
    "\n",
    "california = fetch_california_housing(as_frame=True)\n",
    "\n",
    "X = california.data\n",
    "y = california.target\n",
    "\n",
    "import torch\n",
    "from sklearn.model_selection import train_test_split\n",
    "X_train,X_test,y_train,y_test = train_test_split(X,y , test_size=0.2,random_state=0)\n",
    "\n",
    "X_train=torch.FloatTensor(X_train.values)\n",
    "X_test=torch.FloatTensor(X_test.values)\n",
    "y_train=torch.LongTensor(y_train.values)\n",
    "y_test=torch.LongTensor(y_test.values)\n",
    "\n",
    "import torch.nn as nn\n",
    "class BaseClassifier(nn.Module):\n",
    "    def __init__(self, in_dim, feature_dim, out_dim):\n",
    "        super(BaseClassifier, self).__init__()\n",
    "        self.layer1 = nn.Linear(in_dim, feature_dim, bias=True)\n",
    "        self.layer2 = nn.Linear(feature_dim, out_dim, bias=False)\n",
    "        self.relu = nn.ReLU()\n",
    "        \n",
    "    def forward(self, x):\n",
    "        x = self.layer1(x)\n",
    "        x = self.relu(x)\n",
    "        out = self.layer2(x)\n",
    "        return out\n",
    "\n",
    "from torch import optim\n",
    "import matplotlib.pyplot as plt\n",
    "in_dim, feature_dim, out_dim = 8, 20, 1\n",
    "lr = 1e-3\n",
    "epochs = 40\n",
    "loss_fn = nn.CrossEntropyLoss()\n",
    "classifier = BaseClassifier(in_dim, feature_dim, out_dim)\n",
    "optimizer = optim.SGD(classifier.parameters(), lr=lr)\n",
    "\n",
    "def train(classifier, optimizer, epochs, loss_fn):\n",
    "    classifier.train()\n",
    "    losses = []\n",
    "    for epoch in range(epochs):\n",
    "        out = classifier(X_train)\n",
    "        loss = loss_fn(out, y_train)\n",
    "        loss.backward()\n",
    "        optimizer.step()\n",
    "        optimizer.zero_grad()\n",
    "        losses.append(loss/len(X_train))\n",
    "        print(\"Epoch {} train loss: {}\".format(epoch+1, loss/len(X_train)))\n",
    "    \n",
    "    plt.plot([i for i in range(1, epochs + 1)])\n",
    "    plt.xlabel(\"Epoch\")\n",
    "    plt.ylabel(\"Training Loss\")\n",
    "    plt.title(\"California House Prices Training Loss\")\n",
    "    plt.show()\n",
    "\n",
    "train(classifier, optimizer, epochs, loss_fn)"
   ]
  },
  {
   "cell_type": "code",
   "execution_count": null,
   "id": "a12c1caf",
   "metadata": {},
   "outputs": [],
   "source": []
  },
  {
   "cell_type": "code",
   "execution_count": null,
   "id": "b382bff5",
   "metadata": {},
   "outputs": [],
   "source": []
  }
 ],
 "metadata": {
  "kernelspec": {
   "display_name": "Python 3 (ipykernel)",
   "language": "python",
   "name": "python3"
  },
  "language_info": {
   "codemirror_mode": {
    "name": "ipython",
    "version": 3
   },
   "file_extension": ".py",
   "mimetype": "text/x-python",
   "name": "python",
   "nbconvert_exporter": "python",
   "pygments_lexer": "ipython3",
   "version": "3.9.12"
  }
 },
 "nbformat": 4,
 "nbformat_minor": 5
}
